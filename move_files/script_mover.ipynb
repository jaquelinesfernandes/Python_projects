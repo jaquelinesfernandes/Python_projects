{
 "cells": [
  {
   "cell_type": "code",
   "execution_count": 7,
   "metadata": {},
   "outputs": [],
   "source": [
    "import os\n",
    "lista_arquivos = os.listdir(\"Mover\")\n",
    "\n",
    "\n",
    "#print(lista_arquivos)"
   ]
  },
  {
   "cell_type": "code",
   "execution_count": 8,
   "metadata": {},
   "outputs": [
    {
     "name": "stdout",
     "output_type": "stream",
     "text": [
      "Fev\n",
      "Jan\n",
      "Mar\n",
      "Vendas-Fev2019-2.xlsx\n",
      "Vendas-Fev2019-3.xlsx\n",
      "Vendas-Fev2019-4.xlsx\n",
      "Vendas-Fev2019.xlsx\n",
      "Vendas-Jan-2019-2.xlsx\n",
      "Vendas-Jan-2019-3.xlsx\n",
      "Vendas-Jan-2019-4.xlsx\n",
      "Vendas-Jan-2019.xlsx\n",
      "Vendas-Mar2019-2.xlsx\n",
      "Vendas-Mar2019-3.xlsx\n",
      "Vendas-Mar2019-4.xlsx\n",
      "Vendas-Mar2019.xlsx\n"
     ]
    }
   ],
   "source": [
    "for arquivo in lista_arquivos:\n",
    "    print(arquivo)\n"
   ]
  },
  {
   "cell_type": "code",
   "execution_count": null,
   "metadata": {},
   "outputs": [],
   "source": [
    "for arquivo in lista_arquivos:\n",
    "    if \".xlsx\" in arquivo:\n",
    "        if \"Jan\" in arquivo:\n",
    "            # jogar pra pasta de janeiro\n",
    "            os.rename(f\"Mover/{arquivo}\", f\"Mover/Jan/{arquivo}\")\n",
    "        if \"Fev\" in arquivo:\n",
    "            # jogar pra pasta de fevereiro\n",
    "            os.rename(f\"Mover/{arquivo}\", f\"Mover/Fev/{arquivo}\")\n",
    "        if \"Mar\" in arquivo:\n",
    "            # jogar pra pasta de março\n",
    "            os.rename(f\"Mover/{arquivo}\", f\"Mover/Mar/{arquivo}\")"
   ]
  }
 ],
 "metadata": {
  "kernelspec": {
   "display_name": "base",
   "language": "python",
   "name": "python3"
  },
  "language_info": {
   "codemirror_mode": {
    "name": "ipython",
    "version": 3
   },
   "file_extension": ".py",
   "mimetype": "text/x-python",
   "name": "python",
   "nbconvert_exporter": "python",
   "pygments_lexer": "ipython3",
   "version": "3.11.4"
  }
 },
 "nbformat": 4,
 "nbformat_minor": 2
}
